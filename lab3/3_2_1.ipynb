{
  "nbformat": 4,
  "nbformat_minor": 0,
  "metadata": {
    "colab": {
      "provenance": []
    },
    "kernelspec": {
      "name": "python3",
      "display_name": "Python 3"
    },
    "language_info": {
      "name": "python"
    }
  },
  "cells": [
    {
      "cell_type": "code",
      "execution_count": 2,
      "metadata": {
        "colab": {
          "base_uri": "https://localhost:8080/"
        },
        "id": "3Pm87iS9YJmn",
        "outputId": "20184a09-f30e-475a-bd47-e298e108c039"
      },
      "outputs": [
        {
          "output_type": "stream",
          "name": "stdout",
          "text": [
            "Процент потерянных данных: 79.46%\n",
            "Точность модели: 0.6909\n",
            "Точность модели без признака Embarked: 0.6909\n",
            "Изменение точности: 0.0000\n",
            "\n",
            "Коэффициенты модели:\n",
            "    Feature  Coefficient\n",
            "1       Sex     2.457463\n",
            "5      Fare     0.002858\n",
            "2       Age    -0.025012\n",
            "6  Embarked    -0.194425\n",
            "3     SibSp    -0.222469\n",
            "4     Parch    -0.397235\n",
            "0    Pclass    -0.590362\n"
          ]
        }
      ],
      "source": [
        "import pandas as pd\n",
        "from sklearn.metrics import accuracy_score\n",
        "from sklearn.linear_model import LogisticRegression\n",
        "from sklearn.model_selection import train_test_split\n",
        "\n",
        "\n",
        "data = pd.read_csv('Titanic.csv')\n",
        "data_cleaned = data.dropna()\n",
        "\n",
        "non_numeric_cols = ['Name', 'Ticket', 'Cabin']\n",
        "data_cleaned = data_cleaned.drop(columns=non_numeric_cols)\n",
        "\n",
        "data_cleaned['Sex'] = data_cleaned['Sex'].map({'male': 0, 'female': 1})\n",
        "data_cleaned['Embarked'] = data_cleaned['Embarked'].map({'C': 1, 'Q': 2, 'S': 3})\n",
        "\n",
        "data_cleaned = data_cleaned.drop(columns=['PassengerId'])\n",
        "\n",
        "initial_rows = len(data)\n",
        "cleaned_rows = len(data_cleaned)\n",
        "lost_percentage = ((initial_rows - cleaned_rows) / initial_rows) * 100\n",
        "print(f\"Процент потерянных данных: {lost_percentage:.2f}%\")\n",
        "\n",
        "# Машинное обучение\n",
        "X = data_cleaned.drop(columns=['Survived'])\n",
        "y = data_cleaned['Survived']\n",
        "X_train, X_test, y_train, y_test = train_test_split(X, y, test_size=0.3, random_state=42)\n",
        "\n",
        "model = LogisticRegression(max_iter=1000)\n",
        "model.fit(X_train, y_train)\n",
        "\n",
        "y_pred = model.predict(X_test)\n",
        "accuracy = accuracy_score(y_test, y_pred)\n",
        "print(f\"Точность модели: {accuracy:.4f}\")\n",
        "X_no_embarked = X.drop(columns=['Embarked'])\n",
        "X_train_ne, X_test_ne, y_train_ne, y_test_ne = train_test_split(X_no_embarked, y, test_size=0.3, random_state=42)\n",
        "model_ne = LogisticRegression(max_iter=1000)\n",
        "model_ne.fit(X_train_ne, y_train_ne)\n",
        "y_pred_ne = model_ne.predict(X_test_ne)\n",
        "accuracy_ne = accuracy_score(y_test_ne, y_pred_ne)\n",
        "print(f\"Точность модели без признака Embarked: {accuracy_ne:.4f}\")\n",
        "print(f\"Изменение точности: {accuracy - accuracy_ne:.4f}\")\n",
        "\n",
        "coefficients = pd.DataFrame({\n",
        "    'Feature': X.columns,\n",
        "    'Coefficient': model.coef_[0]\n",
        "})\n",
        "print(\"\\nКоэффициенты модели:\")\n",
        "print(coefficients.sort_values(by='Coefficient', ascending=False))\n"
      ]
    },
    {
      "cell_type": "code",
      "source": [],
      "metadata": {
        "id": "YuWoWh7hY1LV"
      },
      "execution_count": 2,
      "outputs": []
    },
    {
      "cell_type": "code",
      "source": [],
      "metadata": {
        "id": "IYj-UKrvY1iP"
      },
      "execution_count": 2,
      "outputs": []
    }
  ]
}